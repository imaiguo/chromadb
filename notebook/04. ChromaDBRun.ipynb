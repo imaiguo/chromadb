{
 "cells": [
  {
   "cell_type": "markdown",
   "id": "0256140e-e430-49d5-a571-ecd1cb0a6311",
   "metadata": {},
   "source": [
    "# Chromadb"
   ]
  },
  {
   "cell_type": "code",
   "execution_count": 3,
   "id": "f63633cd-c88a-4c85-94b2-7e74976572a9",
   "metadata": {},
   "outputs": [],
   "source": [
    "import chromadb\n",
    "import os\n",
    "\n",
    "os.environ['ALLOW_RESET']=\"TRUE\""
   ]
  },
  {
   "cell_type": "markdown",
   "id": "a31aa81f-8729-4528-8478-e55cfcb86eeb",
   "metadata": {},
   "source": [
    "## 1. 内存建库"
   ]
  },
  {
   "cell_type": "code",
   "execution_count": 3,
   "id": "c7e8ba47-bb5d-4425-a72c-d7d770e5fcff",
   "metadata": {},
   "outputs": [],
   "source": [
    "client = chromadb.Client()\n",
    "collection = client.create_collection(name=\"my_collection\")"
   ]
  },
  {
   "cell_type": "markdown",
   "id": "abbafe19-9e8e-4b72-9c68-1f4e2948708f",
   "metadata": {},
   "source": [
    "### 1.1 自动保存文本 向量化 词语切分 建立索引\n",
    "\n",
    "自动下载默认的文本向量化模型all-MiniLM-L6-v2 (~/.cache/chroma/onnx_models/all-MiniLM-L6-v2/onnx)"
   ]
  },
  {
   "cell_type": "code",
   "execution_count": 5,
   "id": "2baeadd9-4c37-41d6-ab17-d242fbb44486",
   "metadata": {},
   "outputs": [],
   "source": [
    "collection.add(\n",
    "    documents=[\"This is a document\", \"This is another document\"],\n",
    "    metadatas=[{\"source\": \"my_source\"}, {\"source\": \"my_source\"}],\n",
    "    ids=[\"id1\", \"id2\"]\n",
    ")"
   ]
  },
  {
   "cell_type": "markdown",
   "id": "870e791d-ca22-4dd1-b1de-5b6e03cc933f",
   "metadata": {},
   "source": [
    "### 1.2 内容检索"
   ]
  },
  {
   "cell_type": "code",
   "execution_count": 6,
   "id": "2efc9be0-2df6-4e86-bef4-1d883491d569",
   "metadata": {},
   "outputs": [
    {
     "name": "stdout",
     "output_type": "stream",
     "text": [
      "{'ids': [['id1', 'id2']], 'distances': [[0.7111214399337769, 1.0109773874282837]], 'metadatas': [[{'source': 'my_source'}, {'source': 'my_source'}]], 'embeddings': None, 'documents': [['This is a document', 'This is another document']], 'uris': None, 'data': None}\n"
     ]
    }
   ],
   "source": [
    "results = collection.query(\n",
    "    query_texts=[\"This is a query document\"],\n",
    "    n_results=2\n",
    ")\n",
    "\n",
    "print(results)"
   ]
  },
  {
   "cell_type": "markdown",
   "id": "34ebb29d-bf45-4aec-87dc-2d19788cd654",
   "metadata": {},
   "source": [
    "### 1.3 打印库信息"
   ]
  },
  {
   "cell_type": "code",
   "execution_count": 8,
   "id": "d2c4cf9c-4b6a-4bb4-9203-ea50023689c8",
   "metadata": {},
   "outputs": [
    {
     "name": "stdout",
     "output_type": "stream",
     "text": [
      "2\n",
      "name='my_collection' id=UUID('384e7665-e423-428a-b384-1d4b43334b68') metadata=None tenant='default_tenant' database='default_database'\n"
     ]
    }
   ],
   "source": [
    "count = collection.count()\n",
    "print(count)\n",
    "print(collection)"
   ]
  },
  {
   "cell_type": "markdown",
   "id": "b7ff85e1-ca57-468d-89b9-be15d2fa70dd",
   "metadata": {},
   "source": [
    "## 2. 本地文件持久化建库"
   ]
  },
  {
   "cell_type": "markdown",
   "id": "5a8f2a56-f807-42d6-bda2-070a3e5d97c3",
   "metadata": {},
   "source": [
    "### 2.1 创建或者加载本地持久化库"
   ]
  },
  {
   "cell_type": "code",
   "execution_count": 5,
   "id": "b2b244df-2f54-40e5-a0d7-af4afe283f1c",
   "metadata": {},
   "outputs": [],
   "source": [
    "clientlocal = chromadb.PersistentClient(path=\"/opt/Data/DBdata/chromadb.localfile\")"
   ]
  },
  {
   "cell_type": "markdown",
   "id": "540ea0a6-2dcd-4484-a1c8-0efc867bdf4f",
   "metadata": {},
   "source": [
    "### 2.2 数据集的创建、选择和删除"
   ]
  },
  {
   "cell_type": "code",
   "execution_count": 13,
   "id": "78230bf7-21bd-41a4-b61d-86518ef72aa8",
   "metadata": {},
   "outputs": [],
   "source": [
    "collection = clientlocal.create_collection(name=\"my_collection\")"
   ]
  },
  {
   "cell_type": "code",
   "execution_count": 14,
   "id": "46d6401d-d561-40e1-b344-346c983241ee",
   "metadata": {},
   "outputs": [],
   "source": [
    "collection = clientlocal.get_collection(name=\"my_collection\")"
   ]
  },
  {
   "cell_type": "code",
   "execution_count": 11,
   "id": "d3513f14-cd96-4acc-ba3e-7ba7ac952664",
   "metadata": {},
   "outputs": [],
   "source": [
    "clientlocal.delete_collection(name=\"my_collection\")"
   ]
  },
  {
   "cell_type": "code",
   "execution_count": 7,
   "id": "a2e7d466-c8e5-4f02-b7c5-77a871431070",
   "metadata": {},
   "outputs": [
    {
     "data": {
      "text/plain": [
       "1712818013109857176"
      ]
     },
     "execution_count": 7,
     "metadata": {},
     "output_type": "execute_result"
    }
   ],
   "source": [
    "# returns a nanosecond heartbeat. Useful for making sure the client remains connected.\n",
    "clientlocal.heartbeat()"
   ]
  },
  {
   "cell_type": "markdown",
   "id": "548a0849-7ddb-4257-95c6-5e4a8543b5f9",
   "metadata": {},
   "source": [
    "### 2.3 文档导入到一个数据集中"
   ]
  },
  {
   "cell_type": "code",
   "execution_count": 7,
   "id": "0adf5e50-ef34-4fd2-a056-0e53ac979cda",
   "metadata": {},
   "outputs": [
    {
     "name": "stderr",
     "output_type": "stream",
     "text": [
      "Add of existing embedding ID: id1\n",
      "Add of existing embedding ID: id2\n",
      "Insert of existing embedding ID: id1\n",
      "Insert of existing embedding ID: id2\n"
     ]
    }
   ],
   "source": [
    "collection.add(\n",
    "    documents=[\"This is a document\", \"This is another document\"],\n",
    "    metadatas=[{\"source\": \"my_source\"}, {\"source\": \"my_source\"}],\n",
    "    ids=[\"id1\", \"id2\"]\n",
    ")"
   ]
  },
  {
   "cell_type": "code",
   "execution_count": 10,
   "id": "42fb9947-43c2-42da-9591-4dcd7aab119c",
   "metadata": {},
   "outputs": [
    {
     "name": "stdout",
     "output_type": "stream",
     "text": [
      "{'ids': [['id1', 'id2']], 'distances': [[0.711121446165086, 1.010977382542355]], 'metadatas': [[{'source': 'my_source'}, {'source': 'my_source'}]], 'embeddings': None, 'documents': [['This is a document', 'This is another document']], 'uris': None, 'data': None}\n"
     ]
    }
   ],
   "source": [
    "results = collection.query(\n",
    "    query_texts=[\"This is a query document\"],\n",
    "    n_results=2\n",
    ")\n",
    "\n",
    "print(results)"
   ]
  },
  {
   "cell_type": "markdown",
   "id": "2bd48995-4996-4bef-96d5-4e8962bda379",
   "metadata": {},
   "source": [
    "<b>导入自带向量值文本</b>"
   ]
  },
  {
   "cell_type": "code",
   "execution_count": null,
   "id": "7c40dc0e-11eb-4643-9669-c5539661d95f",
   "metadata": {},
   "outputs": [],
   "source": [
    "collection.add(\n",
    "    documents=[\"doc1\", \"doc2\", \"doc3\", ...],\n",
    "    embeddings=[[1.1, 2.3, 3.2], [4.5, 6.9, 4.4], [1.1, 2.3, 3.2], ...],\n",
    "    metadatas=[{\"chapter\": \"3\", \"verse\": \"16\"}, {\"chapter\": \"3\", \"verse\": \"5\"}, {\"chapter\": \"29\", \"verse\": \"11\"}, ...],\n",
    "    ids=[\"id1\", \"id2\", \"id3\", ...]\n",
    ")"
   ]
  },
  {
   "cell_type": "markdown",
   "id": "23840296-0bb8-4eae-88e5-42602b6f8a0c",
   "metadata": {},
   "source": [
    "### 2.4 重置库"
   ]
  },
  {
   "cell_type": "code",
   "execution_count": 4,
   "id": "18258480-e903-455a-af1b-15f53d5c7599",
   "metadata": {},
   "outputs": [
    {
     "data": {
      "text/plain": [
       "True"
      ]
     },
     "execution_count": 4,
     "metadata": {},
     "output_type": "execute_result"
    }
   ],
   "source": [
    "# Empties and completely resets the database. ⚠️ This is destructive and not reversible.\n",
    "clientlocal.reset()"
   ]
  },
  {
   "cell_type": "markdown",
   "id": "46e0862b-43f5-411c-b288-4accd1ce7ff9",
   "metadata": {},
   "source": [
    "# 3 数据集查询"
   ]
  },
  {
   "cell_type": "markdown",
   "id": "3ca0e7b9-ed2a-4e76-ba37-6b3d3cfc4e21",
   "metadata": {},
   "source": [
    "### 3.1 指定查询条件"
   ]
  },
  {
   "cell_type": "code",
   "execution_count": null,
   "id": "70233aae-48a9-4390-b287-906c5caeb56e",
   "metadata": {},
   "outputs": [],
   "source": [
    "# return the n_results closest matches to each query_embedding\n",
    "collection.query(\n",
    "    query_embeddings=[[11.1, 12.1, 13.1],[1.1, 2.3, 3.2], ...],\n",
    "    n_results=10,\n",
    "    where={\"metadata_field\": \"is_equal_to_this\"},\n",
    "    where_document={\"$contains\":\"search_string\"}\n",
    ")"
   ]
  },
  {
   "cell_type": "code",
   "execution_count": null,
   "id": "ac4484a2-2ad7-4038-bc7d-82dba0cc645c",
   "metadata": {},
   "outputs": [],
   "source": [
    "# first embed each query_text with the collection's embedding function, and then perform the query with the generated embedding.\n",
    "collection.query(\n",
    "    query_texts=[\"doc10\", \"thus spake zarathustra\", ...],\n",
    "    n_results=10,\n",
    "    where={\"metadata_field\": \"is_equal_to_this\"},\n",
    "    where_document={\"$contains\":\"search_string\"}\n",
    ")"
   ]
  },
  {
   "cell_type": "code",
   "execution_count": null,
   "id": "4c7ea718-fd07-4e6c-9420-4b0d7f2b7958",
   "metadata": {},
   "outputs": [],
   "source": [
    "# retrieve items from a collection by id using .get\n",
    "collection.get(\n",
    "    ids=[\"id1\", \"id2\", \"id3\", ...],\n",
    "    where={\"style\": \"style1\"}\n",
    ")"
   ]
  },
  {
   "cell_type": "code",
   "execution_count": null,
   "id": "8d2405ef-f225-4159-8e0d-74c272844c17",
   "metadata": {},
   "outputs": [],
   "source": [
    "# supports the where and where_document filters\n",
    "collection.get(\n",
    "    where={\"metadata_field\": \"is_equal_to_this\"},\n",
    "    where_document={\"$contains\":\"search_string\"}\n",
    ")"
   ]
  },
  {
   "cell_type": "markdown",
   "id": "454e3ba9-c4e4-442c-aa63-1d5e190203c3",
   "metadata": {},
   "source": [
    "### 3.2 指定返回数据项\n",
    "\n",
    "<b>embeddings documents metadatas distances</b>"
   ]
  },
  {
   "cell_type": "code",
   "execution_count": null,
   "id": "c583ccfe-8523-4add-a754-2a343f03a622",
   "metadata": {},
   "outputs": [],
   "source": [
    "# Only get documents and ids\n",
    "collection.get(\n",
    "    include=[ \"documents\" ]\n",
    ")"
   ]
  },
  {
   "cell_type": "code",
   "execution_count": null,
   "id": "e8ebde95-e853-4fb5-ae70-166a34fef340",
   "metadata": {},
   "outputs": [],
   "source": [
    "collection.query(\n",
    "    query_embeddings=[[11.1, 12.1, 13.1],[1.1, 2.3, 3.2], ...],\n",
    "    include=[ \"documents\" ]\n",
    ")"
   ]
  },
  {
   "cell_type": "markdown",
   "id": "6d6fbd31-4b1b-49ca-9799-2497caf6023d",
   "metadata": {},
   "source": [
    "### 3.3 适用过滤器"
   ]
  },
  {
   "cell_type": "code",
   "execution_count": null,
   "id": "acc94a1b-6934-4602-bc3d-9ed8fd2b3b25",
   "metadata": {},
   "outputs": [],
   "source": [
    "# a value is not in predefined list (string, int, float, bool)\n",
    "\n",
    "collection.query(\n",
    "    query_texts=[\"doc10\", \"thus spake zarathustra\", ...],\n",
    "    n_results=10,\n",
    "    where={\n",
    "            \"metadata_field\":{\n",
    "                \"$nin\": [\"value1\", \"value2\", \"value3\"]\n",
    "            }\n",
    "          },\n",
    "    where_document={\"$contains\":\"search_string\"}\n",
    ")"
   ]
  },
  {
   "cell_type": "markdown",
   "id": "3f72330a-bf46-4bc4-ac7a-379017518cf2",
   "metadata": {},
   "source": [
    "## 4 数据集更新\n",
    "\n",
    "依赖 ids 为条件更新"
   ]
  },
  {
   "cell_type": "code",
   "execution_count": null,
   "id": "c12f1d81-dfcf-4fb5-9db7-8d700bec81fd",
   "metadata": {},
   "outputs": [],
   "source": [
    "# If an id is not found in the collection, an error will be logged and the update will be ignored.\n",
    "\n",
    "collection.update(\n",
    "    ids=[\"id1\", \"id2\", \"id3\", ...],\n",
    "    embeddings=[[1.1, 2.3, 3.2], [4.5, 6.9, 4.4], [1.1, 2.3, 3.2], ...],\n",
    "    metadatas=[{\"chapter\": \"3\", \"verse\": \"16\"}, {\"chapter\": \"3\", \"verse\": \"5\"}, {\"chapter\": \"29\", \"verse\": \"11\"}, ...],\n",
    "    documents=[\"doc1\", \"doc2\", \"doc3\", ...],\n",
    ")"
   ]
  },
  {
   "cell_type": "code",
   "execution_count": null,
   "id": "fc2fe0e8-da03-4f63-bf1c-72e8083f02eb",
   "metadata": {},
   "outputs": [],
   "source": [
    "collection.upsert(\n",
    "    ids=[\"id1\", \"id2\", \"id3\", ...],\n",
    "    embeddings=[[1.1, 2.3, 3.2], [4.5, 6.9, 4.4], [1.1, 2.3, 3.2], ...],\n",
    "    metadatas=[{\"chapter\": \"3\", \"verse\": \"16\"}, {\"chapter\": \"3\", \"verse\": \"5\"}, {\"chapter\": \"29\", \"verse\": \"11\"}, ...],\n",
    "    documents=[\"doc1\", \"doc2\", \"doc3\", ...],\n",
    ")"
   ]
  },
  {
   "cell_type": "markdown",
   "id": "6daec6a7-126a-4013-b274-e7aec4941e3f",
   "metadata": {},
   "source": [
    "## 5 数据集的其它操作"
   ]
  },
  {
   "cell_type": "code",
   "execution_count": 15,
   "id": "21c67ae7-26e9-48d9-8d01-4d30a0377cbf",
   "metadata": {},
   "outputs": [
    {
     "data": {
      "text/plain": [
       "{'ids': [],\n",
       " 'embeddings': [],\n",
       " 'metadatas': [],\n",
       " 'documents': [],\n",
       " 'uris': None,\n",
       " 'data': None}"
      ]
     },
     "execution_count": 15,
     "metadata": {},
     "output_type": "execute_result"
    }
   ],
   "source": [
    "# returns a list of the first 10 items in the collection\n",
    "collection.peek()"
   ]
  },
  {
   "cell_type": "markdown",
   "id": "3c4127cf-032f-4f62-9faa-dffad5be074e",
   "metadata": {},
   "source": [
    "### 5.1 查询数据项数目"
   ]
  },
  {
   "cell_type": "code",
   "execution_count": 17,
   "id": "56101bfd-fd0b-4874-8bfd-10088f79837f",
   "metadata": {},
   "outputs": [
    {
     "data": {
      "text/plain": [
       "0"
      ]
     },
     "execution_count": 17,
     "metadata": {},
     "output_type": "execute_result"
    }
   ],
   "source": [
    "# returns the number of items in the collection\n",
    "collection.count()"
   ]
  },
  {
   "cell_type": "code",
   "execution_count": 20,
   "id": "f21c51ac-e389-4467-b976-354550a78730",
   "metadata": {},
   "outputs": [
    {
     "name": "stdout",
     "output_type": "stream",
     "text": [
      "name='new_name' id=UUID('a38ebd7f-95cb-4223-99f6-e6d7a2e29bde') metadata=None tenant='default_tenant' database='default_database'\n",
      "name='new_name' id=UUID('a38ebd7f-95cb-4223-99f6-e6d7a2e29bde') metadata=None tenant='default_tenant' database='default_database'\n"
     ]
    }
   ],
   "source": [
    "# Rename the collection\n",
    "print(collection)\n",
    "collection.modify(name=\"new_name\")\n",
    "print(collection)"
   ]
  },
  {
   "cell_type": "markdown",
   "id": "93e0fd38-866c-4503-af52-476c5780dcb5",
   "metadata": {},
   "source": [
    "<b>指定向量距离计算函数</b>"
   ]
  },
  {
   "cell_type": "code",
   "execution_count": 21,
   "id": "10e8f1a7-5231-4a10-b629-fe1436be7ada",
   "metadata": {},
   "outputs": [],
   "source": [
    "# Valid options for hnsw:space are \"l2\", \"ip, \"or \"cosine\"\n",
    "\n",
    "# Squared L2\n",
    "# Inner product\n",
    "# Cosine similarity\n",
    "\n",
    "collectionex = clientlocal.create_collection(\n",
    "    name=\"collection_name\",\n",
    "    metadata={\"hnsw:space\": \"cosine\"} # l2 is the default\n",
    ")"
   ]
  }
 ],
 "metadata": {
  "kernelspec": {
   "display_name": "Python 3 (ipykernel)",
   "language": "python",
   "name": "python3"
  },
  "language_info": {
   "codemirror_mode": {
    "name": "ipython",
    "version": 3
   },
   "file_extension": ".py",
   "mimetype": "text/x-python",
   "name": "python",
   "nbconvert_exporter": "python",
   "pygments_lexer": "ipython3",
   "version": "3.11.2"
  }
 },
 "nbformat": 4,
 "nbformat_minor": 5
}
