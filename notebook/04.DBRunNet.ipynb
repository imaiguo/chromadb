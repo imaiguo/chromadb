{
 "cells": [
  {
   "cell_type": "markdown",
   "id": "5c2f08f6-63c8-478f-b803-fc635c7e3f1f",
   "metadata": {},
   "source": [
    "# 1. chroma服务端启动"
   ]
  },
  {
   "cell_type": "code",
   "execution_count": 2,
   "id": "a628b5a4-1e85-4cad-8eaf-7c3534bb75bf",
   "metadata": {},
   "outputs": [],
   "source": [
    "import chromadb\n",
    "from chromadb.config import Settings"
   ]
  },
  {
   "cell_type": "markdown",
   "id": "60715ef7-6d32-4caa-bcc6-bf4ba2d1cd23",
   "metadata": {},
   "source": [
    "## 1.1 指定服务ip和端口号"
   ]
  },
  {
   "cell_type": "raw",
   "id": "624ece52-c599-4ae7-956f-9c0d56416b00",
   "metadata": {},
   "source": [
    "启动chroma 服务在 端口6000上\n",
    "> chroma run --path /opt/Data/DBdata/chromadb.netfile --host 192.168.2.199 --log-path /opt/Data/DBdata/chromadb.netfile/chromadb.log --port 6000"
   ]
  },
  {
   "cell_type": "markdown",
   "id": "ebd6c2fc-044a-4d81-818f-6f4ec9c190d5",
   "metadata": {},
   "source": [
    "## 1.2 设置登录认证用户名明码"
   ]
  },
  {
   "cell_type": "raw",
   "id": "67a2daf7-e746-48a0-a226-b5535241e8d1",
   "metadata": {},
   "source": [
    "> sudo apt install apache2-utils\n",
    "> htpasswd -Bbn admin 123456 > /opt/Data/DBdata/chromadb.netfile/server.htpasswd\n",
    "> export CHROMA_SERVER_AUTH_CREDENTIALS_FILE=\"/opt/Data/DBdata/chromadb.netfile/server.htpasswd\"\n",
    "> export CHROMA_SERVER_AUTH_CREDENTIALS_PROVIDER=\"chromadb.auth.providers.HtpasswdFileServerAuthCredentialsProvider\"\n",
    "> export CHROMA_SERVER_AUTH_PROVIDER=\"chromadb.auth.basic.BasicAuthServerProvider\"\n",
    ">\n",
    "> chroma run --path /opt/Data/DBdata/chromadb.netfile --host 192.168.2.199 --log-path /opt/Data/DBdata/chromadb.netfile/chromadb.log --port 6000"
   ]
  },
  {
   "cell_type": "markdown",
   "id": "4ca19ae6-e8ed-4800-9621-edd065f3071d",
   "metadata": {},
   "source": [
    "# 2. 客户端连接"
   ]
  },
  {
   "cell_type": "markdown",
   "id": "91a3ba7b-5a6a-419e-9818-07155a6a71c3",
   "metadata": {},
   "source": [
    "## 2.1 创建客户端连接"
   ]
  },
  {
   "cell_type": "code",
   "execution_count": null,
   "id": "bbef5a82-a63b-4ebd-9462-86258ab730cd",
   "metadata": {},
   "outputs": [],
   "source": [
    "client = chromadb.HttpClient(host='192.168.2.199', port=6000)\n",
    "# this should work with or without authentication - it is a public endpoint\n",
    "result = client.heartbeat()\n",
    "print(result)\n",
    "# this should work with or without authentication - it is a public endpoint\n",
    "version = client.get_version()\n",
    "print(version)"
   ]
  },
  {
   "cell_type": "markdown",
   "id": "dbc4207d-d806-4906-a8fb-f005ad284a9e",
   "metadata": {},
   "source": [
    "### 2.2 用户认证连接"
   ]
  },
  {
   "cell_type": "code",
   "execution_count": 3,
   "id": "002e089d-93de-4ddb-bcdf-e33d6b6b3749",
   "metadata": {},
   "outputs": [
    {
     "name": "stdout",
     "output_type": "stream",
     "text": [
      "1713347126664103052\n",
      "0.4.24\n"
     ]
    }
   ],
   "source": [
    "client = chromadb.HttpClient(host='192.168.2.199',\n",
    "                             port=6000,\n",
    "                             settings=Settings(chroma_client_auth_provider=\"chromadb.auth.basic.BasicAuthClientProvider\",\n",
    "                                               chroma_client_auth_credentials=\"admin:123456\")\n",
    "                            )\n",
    "result = client.heartbeat()\n",
    "print(result)\n",
    "# this should work with or without authentication - it is a public endpoint\n",
    "version = client.get_version()\n",
    "print(version)"
   ]
  },
  {
   "cell_type": "code",
   "execution_count": 26,
   "id": "a223aaaa-f221-41c4-98bc-a3c01df50431",
   "metadata": {},
   "outputs": [],
   "source": [
    "collection = client.create_collection(name=\"my_collection\")"
   ]
  },
  {
   "cell_type": "code",
   "execution_count": 6,
   "id": "e70c273b-793f-4f1d-8cd6-51a68221d8fd",
   "metadata": {},
   "outputs": [],
   "source": [
    "collection = client.get_collection(name=\"my_collection\")"
   ]
  },
  {
   "cell_type": "code",
   "execution_count": 8,
   "id": "b291e1d4-b58f-452c-99cf-eaab68ab1010",
   "metadata": {},
   "outputs": [],
   "source": [
    "collection = client.get_or_create_collection (name=\"my_collection\")"
   ]
  },
  {
   "cell_type": "code",
   "execution_count": 27,
   "id": "b5e764e3-71d6-4745-a121-294d50d0bf3e",
   "metadata": {},
   "outputs": [],
   "source": [
    "collection.add(\n",
    "    documents=[\"This is a document\", \"This is another document\"],\n",
    "    metadatas=[{\"source\": \"my_source\"}, {\"source\": \"my_source\"}],\n",
    "    ids=[\"id1\", \"id2\"]\n",
    ")"
   ]
  },
  {
   "cell_type": "markdown",
   "id": "08813d8e-1421-4edd-b6e9-1b7281e0fee0",
   "metadata": {},
   "source": [
    "### 2.3 列出数据集列表"
   ]
  },
  {
   "cell_type": "code",
   "execution_count": 4,
   "id": "15b44b11-405c-427c-a0e6-f6e2cd70e979",
   "metadata": {},
   "outputs": [
    {
     "name": "stdout",
     "output_type": "stream",
     "text": [
      "[Collection(name=mycollection), Collection(name=my_collection)]\n"
     ]
    }
   ],
   "source": [
    "# this is a protected endpoint and requires authentication\n",
    "result = client.list_collections()\n",
    "print(result)"
   ]
  },
  {
   "cell_type": "code",
   "execution_count": 9,
   "id": "46c44735-ad2d-4588-b2d6-7cd02ca65af3",
   "metadata": {},
   "outputs": [
    {
     "data": {
      "text/plain": [
       "2"
      ]
     },
     "execution_count": 9,
     "metadata": {},
     "output_type": "execute_result"
    }
   ],
   "source": [
    "collection.count()"
   ]
  }
 ],
 "metadata": {
  "kernelspec": {
   "display_name": "Python 3 (ipykernel)",
   "language": "python",
   "name": "python3"
  },
  "language_info": {
   "codemirror_mode": {
    "name": "ipython",
    "version": 3
   },
   "file_extension": ".py",
   "mimetype": "text/x-python",
   "name": "python",
   "nbconvert_exporter": "python",
   "pygments_lexer": "ipython3",
   "version": "3.11.2"
  }
 },
 "nbformat": 4,
 "nbformat_minor": 5
}
