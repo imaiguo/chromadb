{
 "cells": [
  {
   "cell_type": "code",
   "execution_count": 1,
   "id": "d005fac0-28bd-4e64-92b2-c1f4ab6a467b",
   "metadata": {},
   "outputs": [
    {
     "name": "stdout",
     "output_type": "stream",
     "text": [
      "ServerIP: 192.168.2.199\n",
      "OpenAiPort: 9001\n"
     ]
    }
   ],
   "source": [
    "import os\n",
    "import chromadb\n",
    "import chromadb.utils.embedding_functions as embedding_functions\n",
    "\n",
    "from chromadb.config import Settings\n",
    "from dotenv import load_dotenv\n",
    "\n",
    "load_dotenv()\n",
    "\n",
    "ChromadbIP = os.getenv('ChromadbIP')\n",
    "ChromadbPort = os.getenv('ChromadbPort')\n",
    "ChromadbUser = os.getenv('ChromadbUser')\n",
    "ChromadbPassword = os.getenv('ChromadbPassword')\n",
    "\n",
    "ServerIP = os.getenv('ServerIP')\n",
    "OpenAiPort = os.getenv('OpenAiPort')\n",
    "\n",
    "print(f\"ServerIP: {ServerIP}\")\n",
    "print(f\"OpenAiPort: {OpenAiPort}\")"
   ]
  },
  {
   "cell_type": "code",
   "execution_count": null,
   "id": "97f2febe-c7d6-4819-bf8f-011bab23cddc",
   "metadata": {},
   "outputs": [],
   "source": [
    "\n",
    "client = chromadb.HttpClient(host= ChromadbIP,\n",
    "                             port= ChromadbPort,\n",
    "                             settings=Settings(chroma_client_auth_provider=\"chromadb.auth.basic.BasicAuthClientProvider\",\n",
    "                                               chroma_client_auth_credentials=f\"{ChromadbUser}:{ChromadbPassword}\"))\n",
    "\n",
    "api_base=f\"http://{ServerIP}:{OpenAiPort}/v1\"\n",
    "\n",
    "openai_ef = embedding_functions.OpenAIEmbeddingFunction(\n",
    "                api_base=api_base,\n",
    "                api_key=\"no need key\",\n",
    "                model_name=\"resetful api\"\n",
    "            )\n",
    "\n",
    "collection = client.get_or_create_collection(name=\"integrations\", embedding_function=openai_ef)\n",
    "# collection = client.create_collection(name=\"integrations\", embedding_function=openai_ef)\n",
    "# collection = client.get_collection(name=\"name\", embedding_function=openai_ef)"
   ]
  },
  {
   "cell_type": "code",
   "execution_count": null,
   "id": "5de1a212-f4a1-4f38-ac40-f6871a9ddc1f",
   "metadata": {},
   "outputs": [],
   "source": [
    "result = openai_ef(input=[\"Good night\", \"How are you?\"])\n",
    "\n",
    "collection.add(documents=[\"Good night\", \"How are you?\"], ids=[\"1\", \"2\"])\n",
    "print(result)"
   ]
  }
 ],
 "metadata": {
  "kernelspec": {
   "display_name": "Python 3 (ipykernel)",
   "language": "python",
   "name": "python3"
  },
  "language_info": {
   "codemirror_mode": {
    "name": "ipython",
    "version": 3
   },
   "file_extension": ".py",
   "mimetype": "text/x-python",
   "name": "python",
   "nbconvert_exporter": "python",
   "pygments_lexer": "ipython3",
   "version": "3.11.2"
  }
 },
 "nbformat": 4,
 "nbformat_minor": 5
}
