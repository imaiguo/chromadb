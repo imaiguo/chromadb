{
 "cells": [
  {
   "cell_type": "markdown",
   "id": "e5412f78-9e29-42b7-8d6e-e4e6cce13c7d",
   "metadata": {},
   "source": [
    "# ChromaDB Test"
   ]
  },
  {
   "cell_type": "code",
   "execution_count": 18,
   "id": "3286c6ca-f7f8-460e-91e3-8840688e78a6",
   "metadata": {},
   "outputs": [],
   "source": [
    "import os\n",
    "import time\n",
    "import chromadb\n",
    "\n",
    "from chromadb.config import Settings\n",
    "from dotenv import load_dotenv\n",
    "import chromadb.utils.embedding_functions as embedding_functions\n",
    "\n",
    "load_dotenv()\n",
    "\n",
    "ServerIP = os.getenv('ServerIP')\n",
    "OpenAiPort = os.getenv('OpenAiPort')\n",
    "ChromadbIP = os.getenv('ChromadbIP')\n",
    "ChromadbPort = os.getenv('ChromadbPort')\n",
    "ChromadbUser = os.getenv('ChromadbUser')\n",
    "ChromadbPassword = os.getenv('ChromadbPassword')\n",
    "ServerIP = os.getenv('ServerIP')\n",
    "OpenAiPort = os.getenv('OpenAiPort')"
   ]
  },
  {
   "cell_type": "code",
   "execution_count": 19,
   "id": "a5156481-dbb8-4530-ae87-43d5daa93fec",
   "metadata": {},
   "outputs": [],
   "source": [
    "client = chromadb.HttpClient(host= ChromadbIP,\n",
    "                             port= ChromadbPort,\n",
    "                             settings=Settings(chroma_client_auth_provider=\"chromadb.auth.basic.BasicAuthClientProvider\",\n",
    "                                               chroma_client_auth_credentials=f\"{ChromadbUser}:{ChromadbPassword}\"))\n",
    "\n",
    "api_base=f\"http://{ServerIP}:{OpenAiPort}/v1\"\n",
    "\n",
    "openai_ef = embedding_functions.OpenAIEmbeddingFunction(\n",
    "                api_base=api_base,\n",
    "                api_key=\"no need key\",\n",
    "                model_name=\"resetful api\"\n",
    "            )"
   ]
  },
  {
   "cell_type": "code",
   "execution_count": 20,
   "id": "04aecc52-b5eb-443b-93ee-c6af4c71443c",
   "metadata": {},
   "outputs": [],
   "source": [
    "# collection = client.get_or_create_collection(name=\"question\", embedding_function=openai_ef, metadata={\"hnsw:space\": \"ip\"})\n",
    "collection = client.get_collection(name=\"questionAutoEnbeddingCosine\", embedding_function=openai_ef)\n",
    "\n",
    "# metadata={\"hnsw:space\": \"cosine\"} # l2 is the default\n",
    "# Valid options for hnsw:space are \"l2\", \"ip, \"or \"cosine\"."
   ]
  },
  {
   "cell_type": "code",
   "execution_count": 21,
   "id": "4f4c29d0-4b39-4650-92c1-498b7f401602",
   "metadata": {},
   "outputs": [
    {
     "name": "stdout",
     "output_type": "stream",
     "text": [
      "1024\n",
      "-3.5762786865234375e-07\n",
      "0.014742851257324219\n",
      "UNIX中要将一文件改名或换至另一个目录应使用命令（）。\n",
      "A.mv\tB.rm\tC.cp\tD.ftp\n",
      "\n",
      "UNIX中要将一文件改名或换至另一个目录应使用命令（）\n",
      "A.mv\tB.rm\tC.cp\tD.ftp。\n",
      "\n"
     ]
    }
   ],
   "source": [
    "content = \"UNIX中要将一文件改名或换至另一个目录应使用命令（）。\\nA.mv\\tB.rm\\tC.cp\\tD.ftp\"\n",
    "# content = \"某用户原报装非工业用电，现要求改为商业用电，该户应办理\"\n",
    "\n",
    "result = collection.query(query_texts=[content], n_results=2, include=[\"documents\", \"embeddings\", \"metadatas\", \"distances\"])\n",
    "# print(result)\n",
    "docs = result[\"documents\"][0]\n",
    "distances = result[\"distances\"][0]\n",
    "\n",
    "print(len(result[\"embeddings\"][0][0]))\n",
    "# print(result[\"embeddings\"][0][0])\n",
    "\n",
    "for dis in distances:\n",
    "    print(dis)\n",
    "\n",
    "for doc in docs:\n",
    "    print(doc)\n",
    "    print(\"\")\n"
   ]
  },
  {
   "cell_type": "code",
   "execution_count": 25,
   "id": "ba6fdf3e-88a2-4099-b438-ae34e254c2de",
   "metadata": {},
   "outputs": [
    {
     "name": "stdout",
     "output_type": "stream",
     "text": [
      "{'ids': [], 'embeddings': None, 'metadatas': [], 'documents': [], 'data': None, 'uris': None}\n"
     ]
    }
   ],
   "source": [
    "from numpy import dot\n",
    "from numpy.linalg import norm\n",
    "\n",
    "def cos_sim(a, b):\n",
    "    '''余弦距离 -- 越大越相似'''\n",
    "    return dot(a, b)/(norm(a)*norm(b))\n",
    "\n",
    "# getRes = collection.get(ids=[\"10000\"])\n",
    "getRes = collection.get(ids=[\"10758\"])\n",
    "# getRes = collection.peek()\n",
    "# getRes = collection.count()\n",
    "print(getRes)\n",
    "\n",
    "# result = openai_ef(input=['电网主要安全自动装置有：（）。\\nA.低频、低压解列装置\\tB.振荡（失步）解列装置\\tC.切负荷装置\\tD.切机装置'])\n",
    "# # result = openai_ef(input=[\"某用户原报装非工业用电，现要求改为商业用电，该户应办理（　　）。\\nA.改类\\tB.改压\\tC.更名过户\\tD.销户。\"])\n",
    "\n",
    "\n",
    "# distence = cos_sim(getRes[\"embeddings\"][0], result[0])\n",
    "# print(distence)"
   ]
  },
  {
   "cell_type": "code",
   "execution_count": 1,
   "id": "cd3753ee-f25f-4d0e-b805-732aa7a6551c",
   "metadata": {},
   "outputs": [
    {
     "ename": "NameError",
     "evalue": "name 'client' is not defined",
     "output_type": "error",
     "traceback": [
      "\u001b[0;31m---------------------------------------------------------------------------\u001b[0m",
      "\u001b[0;31mNameError\u001b[0m                                 Traceback (most recent call last)",
      "Cell \u001b[0;32mIn[1], line 1\u001b[0m\n\u001b[0;32m----> 1\u001b[0m \u001b[43mclient\u001b[49m\u001b[38;5;241m.\u001b[39mreset()\n",
      "\u001b[0;31mNameError\u001b[0m: name 'client' is not defined"
     ]
    }
   ],
   "source": [
    "client.reset()"
   ]
  }
 ],
 "metadata": {
  "kernelspec": {
   "display_name": "Python 3 (ipykernel)",
   "language": "python",
   "name": "python3"
  },
  "language_info": {
   "codemirror_mode": {
    "name": "ipython",
    "version": 3
   },
   "file_extension": ".py",
   "mimetype": "text/x-python",
   "name": "python",
   "nbconvert_exporter": "python",
   "pygments_lexer": "ipython3",
   "version": "3.11.2"
  }
 },
 "nbformat": 4,
 "nbformat_minor": 5
}
